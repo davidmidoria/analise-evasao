{
 "cells": [
  {
   "cell_type": "markdown",
   "metadata": {},
   "source": [
    "# <span style=\"font-family: Inter;margin-left: 50px;\"><font color=00ff00> Escolha dos gráficos"
   ]
  },
  {
   "cell_type": "markdown",
   "metadata": {},
   "source": [
    "<span style=\"font-family: Inter;font-size: 20px;margin-left: 20px\">Fazemos gráficos para informar as pessoas sobre determinadas informações, e escolher um gráfico específico pode ser uma tarefa difícil, principalmente ao tentar entender qual gráfico utilizar. Minha decisão é sempre optar pelo gráfico mais fácil de compreender as informações que desejo demonstrar. Se observarem os dois gráficos abaixo, terão uma boa ideia disso."
   ]
  },
  {
   "cell_type": "markdown",
   "metadata": {},
   "source": [
    "![](./imagens/grafico_feio_1.png)"
   ]
  },
  {
   "cell_type": "markdown",
   "metadata": {},
   "source": [
    "![](./imagens/pizza_quadrada.png)"
   ]
  },
  {
   "cell_type": "markdown",
   "metadata": {},
   "source": [
    "<span style=\"font-family: Inter;font-size: 20px;margin-left: 20px\">Os gráficos acima tornam mais difícil a observação de dados que possuem pouca diferença, enquanto um gráfico de barras, como o que está abaixo, deixa muito claro as diferenças entre suas informações principais"
   ]
  },
  {
   "cell_type": "markdown",
   "metadata": {},
   "source": [
    "![](./imagens/barras.png)"
   ]
  },
  {
   "cell_type": "markdown",
   "metadata": {},
   "source": [
    "<span style=\"font-family: Inter;font-size: 20px;margin-left: 20px\">Um segundo ponto que pode ser observado no gráfico abaixo."
   ]
  },
  {
   "cell_type": "markdown",
   "metadata": {},
   "source": [
    "![](./imagens/hrbp.png)"
   ]
  },
  {
   "cell_type": "markdown",
   "metadata": {},
   "source": [
    "<span style=\"font-family: Inter;font-size: 20px;margin-left: 20px\">Quanto mais informações inserimos em um gráfico, mais difícil ele se torna de entender. Por isso, optei por não utilizar nenhum tipo de gráfico além do de barras nesta análise. Mesmo que um gráfico diferente possa parecer atraente ou tenha outros atributos sedutores, se ele não contribuir para a transmissão da informação principal, não é eficaz."
   ]
  }
 ],
 "metadata": {
  "language_info": {
   "name": "python"
  },
  "orig_nbformat": 4
 },
 "nbformat": 4,
 "nbformat_minor": 2
}

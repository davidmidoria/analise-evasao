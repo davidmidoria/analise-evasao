{
 "cells": [
  {
   "cell_type": "markdown",
   "metadata": {},
   "source": [
    "## <span style=\"font-family: Inter;\"><font color=00ff00>feedback\n"
   ]
  },
  {
   "cell_type": "markdown",
   "metadata": {},
   "source": [
    "<font color=white><span style=\"font-family: Inter;font-size: 20px;margin-left: 20px\">O gráfico apresenta um modelo bastante profissional que cumpre o objetivo de apresentar os dados. No entanto, ele contém muitas informações e recursos visuais que podem dificultar a compreensão para observadores menos experientes. Por exemplo, as bolhas no gráfico e sua localização não transmitem de forma clara as principais informações. Além disso, a existência de dois gráficos idênticos com informações diferentes torna difícil entender qual informação priorizar. Uma solução mais eficaz seria dividir essas informações em vários gráficos distintos, destacando e explicando cada informação de forma isolada."
   ]
  },
  {
   "cell_type": "markdown",
   "metadata": {},
   "source": [
    "![](./imagens/hrbp.png)"
   ]
  },
  {
   "cell_type": "markdown",
   "metadata": {},
   "source": [
    "![](./imagens/konoha.png)"
   ]
  }
 ],
 "metadata": {
  "language_info": {
   "name": "python"
  },
  "orig_nbformat": 4
 },
 "nbformat": 4,
 "nbformat_minor": 2
}

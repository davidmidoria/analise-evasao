{
 "cells": [
  {
   "cell_type": "markdown",
   "metadata": {},
   "source": [
    "# <span style=\"font-family: Inter;margin-left: 50px;\"><font color=00ff00> ***konohagakure ltda*** \n",
    "\n",
    "## <span style=\"font-family: Inter;margin-left: 50px;\"><font color= green >***Analise da evasão dos funcionarios***"
   ]
  },
  {
   "cell_type": "markdown",
   "metadata": {},
   "source": [
    "<font color=white><span style=\"font-family: Inter; font-size: 20px;margin-left: 20px;\">Após a solicitação por parte do CMO (Chief Marketing Officer). Foi realizado um estudo detalhado buscando, primeiramente, os dados que pudessem sustentar qualquer hipótese feita pela nossa equipe. Nessa busca, recebemos uma [<font color=green>planilha<font color=white>](pesquisa.xlsx)  com duas pesquisas: uma realizada pelo parceiro de Recursos Humanos e outra realizada na saída do funcionário da empresa.\n",
    "\n",
    "<font color=white><span style=\"font-family: Inter;font-size: 20px;margin-left: 20px\">Foi observado que a pesquisa do RH possuía 565 dados, enquanto a de saída possuía 504, revelando que pouco mais de doze porcento das pessoas que saíram da empresa optaram por não responder à pesquisa, o que pode significar uma grande insatisfação dos ex-funcionários para com a empresa.\n",
    "\n",
    "<font color=white><span style=\"font-family: Inter;font-size: 20px;margin-left: 20px\">Além disso, existia um terceiro dado a ser levado em conta, que era a capacidade de impacto das demissões na empresa. Segundo os dados fornecidos, demissões por treinamento e conflitos lideravam a capacidade de impacto na empresa.\n",
    "\n",
    "<font color=white><span style=\"font-family: Inter;font-size: 20px;margin-left: 20px\">Com tudo isso, criamos nossos primeiros gráficos na busca de entender melhor a diferença entre as duas pesquisas."
   ]
  },
  {
   "cell_type": "markdown",
   "metadata": {},
   "source": [
    "![](./imagens/parceiro_de_negocio.png)"
   ]
  },
  {
   "cell_type": "markdown",
   "metadata": {},
   "source": [
    "![](./imagens/pesquisa_de_saida.png)"
   ]
  },
  {
   "cell_type": "markdown",
   "metadata": {},
   "source": [
    "\n",
    "## <span style=\"font-family: Inter;margin-left: 50px;\"><font color= green > ***Considerações sobre as pesquisas***"
   ]
  },
  {
   "cell_type": "markdown",
   "metadata": {},
   "source": [
    "\n",
    "<font color=white><span style=\"font-family: Inter;font-size: 20px;margin-left: 20px\">Quando observamos os dois gráficos, percebemos que há uma diferença não apenas no número de respostas, mas também no percentual de cada resposta. Os dados que estão entre aqueles com maior número no primeiro gráfico diminuem em seu percentual no segundo, alterando sua posição. \n",
    "\n",
    "<font color=white><span style=\"font-family: Inter;font-size: 20px;margin-left: 20px\">Como qualquer julgamento de valor sobre os dados de ambas as pesquisas é apenas especulativo, não posso desacreditar nenhum dos dois resultados ou escolher apenas um de forma arbitrária. Portanto, para minimizar as chances de erros, a equipe resolveu que se deveria calcular uma média entre o percentual de cada valor. Assim, por exemplo, se o avanço na carreira representa 30% no primeiro gráfico e 40% no segundo, o resultado final será 35%, ignorando a diferença no número de respostas. O resultado é o gráfico a baixo "
   ]
  },
  {
   "cell_type": "markdown",
   "metadata": {},
   "source": [
    "![](./imagens/media_entre_pesquisa.png)"
   ]
  },
  {
   "cell_type": "markdown",
   "metadata": {},
   "source": [
    "## <span style=\"font-family: Inter;margin-left: 50px;\"><font color= green >  Explicação sobre os dados e decisões tomadas\n",
    "\n",
    "<font color=white><span style=\"font-family: Inter;font-size: 20px;margin-left: 20px\">Agora, com esse gráfico acima, ficou muito mais fácil para qualquer pessoa entender as principais causas da evasão de funcionários da empresa. Mas você pode se perguntar o motivo de nos últimos três gráficos somente as quatro maiores colunas ficarem em evidência. O motivo é bastante simples: tanto nesse último gráfico quanto nos dois primeiros, as quatro primeiras linhas representam a grande maioria dos motivos da evasão. É por conta disso que merecem um maior foco na nossa análise, facilitando assim a elaboração de estratégias exclusivas para as maiores dores dos nossos funcionários.\n",
    "\n",
    "<font color=white><span style=\"font-family: Inter;font-size: 20px;margin-left: 20px\">Mas ainda existe um parâmetro em nossa planilha que não foi resolvido. Esse parâmetro é a \"capacidade de impacto\". A proposta desse parâmetro foi elucidar quais motivos das demissões vão gerar um maior impacto em nossa companhia. Agora, imaginemos se colocássemos um esforço e recursos enormes em um motivo para demissão que tem um número considerável, porém baixo impacto para nossa companhia. Certamente estaríamos deixando de lado motivos com maior impacto. O contrário também pode ser verdadeiro. Investir força demais nas demissões com maior impacto, porém com baixo número, é uma maneira inadequada de alocar nossos recursos. Na busca por evitar tamanho erro, foi criado um cálculo que pudesse pôr fim a esse problema. O melhor resultado encontrado foi o seguinte:\n",
    "\n",
    "<font color=white><span style=\"font-family: Inter;font-size: 20px;margin-left: 20px\">Cada valor da média das pesquisas será multiplicado por sua correspondente capacidade de impacto. Após isso, será dividido pela soma de todas as variáveis multiplicadas, a fim de obter o percentual de cada valor. Para entender o raciocínio, vamos supor que uma quitanda venda laranjas por um real, maçãs por dois e melancias por dez. Em um dia, foram vendidas 10 laranjas, 5 maçãs e 2 melancias. O valor total das vendas foi 40 reais, sendo 20 provenientes das melancias e 10 tanto das laranjas quanto das maçãs. Se eu dividir o valor das melancias, que foi 20, pelo valor total, que foi 40, o resultado é 0,5, ou seja, as melancias representam metade do faturamento do dia. No nosso caso, a capacidade de impacto é o valor da fruta e os motivos para a evasão e seus valores são as frutas e suas quantidades vendidas, respectivamente. Essa mesma regra será utilizada para compreender os principais responsáveis pela nossa evasão. "
   ]
  },
  {
   "cell_type": "markdown",
   "metadata": {},
   "source": [
    "![](./imagens/pesquisa_final.png)"
   ]
  },
  {
   "cell_type": "markdown",
   "metadata": {},
   "source": [
    "<font color=white><span style=\"font-family: Inter;font-size: 20px;margin-left: 20px\">Como o gráfico acima deixa bastante claro, os quatro principais causadores de danos à nossa companhia em termos de demissões são: avanço na carreira, tipo de trabalho, falta de reconhecimento e treinamento. Nos parágrafos a seguir, \n",
    "irei discorrer elencando as principais consequências e contramedidas para a resolução desses problemas."
   ]
  },
  {
   "cell_type": "markdown",
   "metadata": {},
   "source": [
    "## <span style=\"font-family: Inter;\"><font color=00ff00>Treinamento \n",
    "\n",
    "### <span style=\"font-family: Inter\"><font color= green >Descrição\n",
    "<font color=white><span style=\"font-family: Inter;font-size: 20px;margin-left: 20px\"> O treinamento pode ser um grande problema para nossa empresa, não apenas quando se trata de demissões, mas também na qualidade da equipe. Equipes com baixo treinamento tendem a desenvolver seu trabalho de maneira menos eficiente, criando, assim, uma equipe menos capaz no geral e, consequentemente, com menor capacidade de resolução de problemas. \n",
    "\n",
    "### <span style=\"font-family: Inter;\"><font color= green >possiveis resoluções \n",
    "\n",
    "<font color=white><span style=\"font-family: Inter;font-size: 20px;margin-left: 20px\">Criar um plano de ação com a liderança, profissionais seniores e outros colaboradores igualmente capacitados para aprimorar a equipe. Isso incluirá um acompanhamento mais próximo de cada funcionário, com feedback constante sobre as tarefas executadas, além da possibilidade de oferecer aulas para consolidar a base da equipe.\n",
    "\n",
    "<span style=\"font-family: Inter;font-size: 20px\"><font color= green >pro: <font color=white><span style=\"font-family: Inter;font-size: 20px\">baixo investimento\n",
    "     \n",
    "<span style=\"font-family: Inter;font-size: 20px\"><font color= green >contra:<font color=white><span style=\"font-family: Inter;font-size: 20px\"> pode acarretar em carga excessiva de trabalho para os responsaveis devido ao acumullo de funções\n",
    "\n",
    " <font color=white><span style=\"font-family: Inter;font-size: 20px;margin-left: 20px\">Buscar parcerias com empresas especializadas em treinamento de equipes corporativas para executar o treinamento conforme especificado por nós. Selecionar empresas com histórico de sucesso em casos semelhantes.\n",
    "\n",
    "<span style=\"font-family: Inter;font-size: 20px\"><font color= green >pro: <font color=white><span style=\"font-family: Inter;font-size: 20px\">todo o treinamento e por parte da empresa contratada logo seniores e liderança não estarão envolvidos.\n",
    "     \n",
    "<span style=\"font-family: Inter;font-size: 20px\"><font color= green >contra:<font color=white><span style=\"font-family: Inter;font-size: 20px\"> investimento financeiro \n"
   ]
  },
  {
   "cell_type": "markdown",
   "metadata": {},
   "source": [
    "## <span style=\"font-family: Inter;\"><font color=00ff00>falta de reconhecimento\n",
    "\n",
    "### <span style=\"font-family: Inter\"><font color= green >Descrição"
   ]
  },
  {
   "cell_type": "markdown",
   "metadata": {},
   "source": [
    "<font color=white><span style=\"font-family: Inter;font-size: 20px;margin-left: 20px\">A falta de reconhecimento é um problema muito comum nas empresas em geral. Alguns funcionários não se sentem valorizados, e, por causa disso, acabam ficando desanimados e menos produtivos. Problemas como esses não apenas têm um impacto direto na taxa de evasão, mas também podem criar um ambiente de trabalho ruim, com pessoas desanimadas e frustradas com seu trabalho."
   ]
  },
  {
   "cell_type": "markdown",
   "metadata": {},
   "source": [
    "### <span style=\"font-family: Inter;\"><font color= green >Possiveis resoluções\n",
    "\n",
    "<font color=white><span style=\"font-family: Inter;font-size: 20px;margin-left: 20px\">Incentivar líderes a oferecer feedback aos membros de sua equipe. Esses feedbacks serão enviados semanalmente e devem ser dados de forma natural.\n",
    "\n",
    "<span style=\"font-family: Inter;font-size: 20px\"><font color= green >pro: <font color=white><span style=\"font-family: Inter;font-size: 20px\"> possui baixo investimento, equipe mais motivada\n",
    "     \n",
    "<span style=\"font-family: Inter;font-size: 20px\"><font color= green >contra:<font color=white><span style=\"font-family: Inter;font-size: 20px\"> Alguns funcionários podem enxergar os feedbacks de maneira negativa, e também pode haver baixa efetividade se forem mal implementados.\n",
    "\n",
    "<font color=white><span style=\"font-family: Inter;font-size: 20px;margin-left: 20px\">Criar premiações para os funcionários, seja em forma de folgas, dinheiro, prêmios ou cupons, pode ajudar bastante no engajamento da equipe e na sensação de reconhecimento.\n",
    "\n",
    "<span style=\"font-family: Inter;font-size: 20px\"><font color= green >pro: <font color=white><span style=\"font-family: Inter;font-size: 20px\"> Melhorar a sensação de reconhecimento da equipe, motivar a equipe no ambiente de trabalho \n",
    "     \n",
    "<span style=\"font-family: Inter;font-size: 20px\"><font color= green >contra:<font color=white><span style=\"font-family: Inter;font-size: 20px\"> Possui maior custo para empresa, Pode incentivar competitividade tóxica.\n",
    "\n",
    "\n",
    "\n",
    "\n",
    "\n",
    "\n",
    "\n",
    "\n"
   ]
  },
  {
   "cell_type": "markdown",
   "metadata": {},
   "source": [
    "## <span style=\"font-family: Inter;\"><font color=00ff00>Tipo de Trabalho \n",
    "\n",
    "### <span style=\"font-family: Inter\"><font color= green >Descrição\n",
    "\n",
    "<font color=white><span style=\"font-family: Inter;font-size: 20px;margin-left: 20px\">Atualmente, existe uma grande discussão sobre o melhor tipo de trabalho que uma empresa deve adotar, e este é um grande desafio. Boa parte dos funcionários prefere o home office, pois não precisam gastar tempo com transporte e apreciam o conforto de seu lar. Por outro lado, críticos apontam para menor produtividade e outros problemas, como a falta de entrosamento da equipe. Segundo matéria da [CNN](https://www.cnnbrasil.com.br/economia/79-dos-profissionais-de-tecnologia-preferem-pedir-demissao-a-perder-home-office/) na área de tecnologia, setenta e nove por cento dos colaboradores em home office preferem trocar de empresa a voltar para o trabalho presencial, oquê pode nos dar uma bela noção do que estamos enfrentando.\n",
    "\n",
    "<font color=white><span style=\"font-family: Inter;font-size: 20px;margin-left: 20px\">Um dos maiores dilemas ao escolher uma única forma de trabalho é a perda de talentos, uma vez que outra empresa que paga o mesmo salário, mas oferece a opção de home office, pode se tornar muito mais atraente. Para resolver esse problema, não existe uma solução fácil, mas podemos identificar algumas possíveis soluções.\n"
   ]
  },
  {
   "cell_type": "markdown",
   "metadata": {},
   "source": [
    "### <span style=\"font-family: Inter;\"><font color= green >Possiveis resoluções\n",
    "\n",
    "<font color=white><span style=\"font-family: Inter;font-size: 20px;margin-left: 20px\"> escolher ambos os modelos, mas buscando uma responsabilização muito maior das pessoas que trabalham no home office sendo mais incisivo em problemas como falta de produtividade.\n",
    "\n",
    "<span style=\"font-family: Inter;font-size: 20px\"><font color= green >pro: <font color=white><span style=\"font-family: Inter;font-size: 20px\"> Diminuir a evasão de funcionários que recebem outras propostas de emprego com modelos de trabalho diferentes.\n",
    "\n",
    "<span style=\"font-family: Inter;font-size: 20px\"><font color= green >contra:<font color=white><span style=\"font-family: Inter;font-size: 20px\">  funcionario pode se sentir perseguido.\n",
    "\n",
    "<font color=white><span style=\"font-family: Inter;font-size: 20px;margin-left: 20px\"> Manter um único modelo de trabalho e buscar reter os funcionários por meio de benefícios e aumentos de salário.\n",
    "\n",
    "<span style=\"font-family: Inter;font-size: 20px\"><font color= green >pro: <font color=white><span style=\"font-family: Inter;font-size: 20px\"> consegue manter boa parte dos funcionarios no curto prazo\n",
    "\n",
    "<span style=\"font-family: Inter;font-size: 20px\"><font color= green >contra:<font color=white><span style=\"font-family: Inter;font-size: 20px\"> assim quê o funcionario receber uma nova proposta com salario compativel voltara a perdir demissão"
   ]
  },
  {
   "cell_type": "markdown",
   "metadata": {},
   "source": [
    "## <span style=\"font-family: Inter;\"><font color=00ff00>Avanço na carreira"
   ]
  },
  {
   "cell_type": "markdown",
   "metadata": {},
   "source": [
    "### <span style=\"font-family: Inter\"><font color= green >Descrição"
   ]
  },
  {
   "cell_type": "markdown",
   "metadata": {},
   "source": [
    "<font color=white><span style=\"font-family: Inter;font-size: 20px;margin-left: 20px\">Avançar na carreira é primordial para qualquer pessoa, independentemente da idade. É por isso que é de suma importância que a empresa possua um plano de carreira bem definido, que demonstre claramente o que é necessário para o avanço na carreira. Não podemos alimentar nos nossos colaboradores o sentimento de estagnação, o que hoje resulta em mais de um terço das nossas demissões."
   ]
  },
  {
   "cell_type": "markdown",
   "metadata": {},
   "source": [
    "<font color=white><span style=\"font-family: Inter;font-size: 20px;margin-left: 20px\"> É fundamental criar um [PDI](https://blog.solides.com.br/pdi/) (Plano de Desenvolvimento Individual) que explique aos funcionários como ocorrerá a sua evolução na empresa e as características necessárias para a mudança de cargo.\n",
    "\n",
    "<span style=\"font-family: Inter;font-size: 20px\"><font color= green >pro: <font color=white><span style=\"font-family: Inter;font-size: 20px\"> Funcionários mais engajados têm perspectivas de futuro mais promissoras\n",
    "\n",
    "<span style=\"font-family: Inter;font-size: 20px\"><font color= green >contra:<font color=white><span style=\"font-family: Inter;font-size: 20px\"> esse processo pode levar a uma obrigação da empresa a promever os funcionarios mediante o seu desenvolvimento."
   ]
  },
  {
   "cell_type": "markdown",
   "metadata": {},
   "source": [
    "## <span style=\"font-family: Inter;\"><font color=00ff00>conclusão"
   ]
  },
  {
   "cell_type": "markdown",
   "metadata": {},
   "source": [
    "<font color=white><span style=\"font-family: Inter;font-size: 20px;margin-left: 20px\">Todas as análises das possíveis soluções buscaram fornecer orientações para a resolução dos problemas encontrados. No entanto, é importante destacar que o problema é real e deve ser solucionado o quanto antes para garantir o melhor funcionamento da nossa empresa."
   ]
  }
 ],
 "metadata": {
  "kernelspec": {
   "display_name": "base",
   "language": "python",
   "name": "python3"
  },
  "language_info": {
   "codemirror_mode": {
    "name": "ipython",
    "version": 3
   },
   "file_extension": ".py",
   "mimetype": "text/x-python",
   "name": "python",
   "nbconvert_exporter": "python",
   "pygments_lexer": "ipython3",
   "version": "3.10.9"
  },
  "orig_nbformat": 4
 },
 "nbformat": 4,
 "nbformat_minor": 2
}

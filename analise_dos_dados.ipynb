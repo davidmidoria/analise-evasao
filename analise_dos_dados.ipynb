{
 "cells": [
  {
   "cell_type": "markdown",
   "metadata": {},
   "source": [
    "# <span style=\"font-family: Inter;margin-left: 50px;\"><font color=00ff00> ***konohagakure ltda*** \n",
    "\n",
    "## <span style=\"font-family: Inter;margin-left: 50px;\"><font color= green >***Analise da evasão dos funcionarios***"
   ]
  },
  {
   "cell_type": "markdown",
   "metadata": {},
   "source": [
    "<font color=white><span style=\"font-family: Inter; font-size: 20px;margin-left: 20px;\">Após a solicitação por parte do CMO (Chief Marketing Officer). Foi realizado um estudo detalhado buscando, primeiramente, os dados que pudessem sustentar qualquer hipótese feita pela nossa equipe. Nessa busca, recebemos uma [<font color=green>planilha<font color=white>](pesquisa.xlsx)  com duas pesquisas: uma realizada pelo parceiro de Recursos Humanos e outra realizada na saída do funcionário da empresa.\n",
    "\n",
    "<font color=white><span style=\"font-family: Inter;font-size: 20px;margin-left: 20px\">Foi observado que a pesquisa do RH possuía 565 dados, enquanto a de saída possuía 504, revelando que pouco mais de doze porcento das pessoas que saíram da empresa optaram por não responder à pesquisa, o que pode significar uma grande insatisfação dos ex-funcionários para com a empresa.\n",
    "\n",
    "<font color=white><span style=\"font-family: Inter;font-size: 20px;margin-left: 20px\">Além disso, existia um terceiro dado a ser levado em conta, que era a capacidade de impacto das demissões na empresa. Segundo os dados fornecidos, demissões por treinamento e conflitos lideravam a capacidade de impacto na empresa.\n",
    "\n",
    "<font color=white><span style=\"font-family: Inter;font-size: 20px;margin-left: 20px\">Com tudo isso, criamos nossos primeiros gráficos na busca de entender melhor a diferença entre as duas pesquisas."
   ]
  },
  {
   "cell_type": "markdown",
   "metadata": {},
   "source": [
    "![](./imagens/parceiro_de_negocio.png)"
   ]
  },
  {
   "cell_type": "markdown",
   "metadata": {},
   "source": [
    "![](./imagens/pesquisa_de_saida.png)"
   ]
  },
  {
   "cell_type": "markdown",
   "metadata": {},
   "source": [
    "quando observamos  os dois gráficos percebemos quê existe uma variação "
   ]
  },
  {
   "cell_type": "code",
   "execution_count": 29,
   "metadata": {},
   "outputs": [],
   "source": [
    "import pandas as pd \n",
    "\n",
    "a=pd.read_excel('pesquisa.xlsx')"
   ]
  },
  {
   "cell_type": "code",
   "execution_count": 30,
   "metadata": {},
   "outputs": [],
   "source": [
    "a=a.iloc[4:]"
   ]
  },
  {
   "cell_type": "code",
   "execution_count": 34,
   "metadata": {},
   "outputs": [
    {
     "data": {
      "text/plain": [
       "565"
      ]
     },
     "execution_count": 34,
     "metadata": {},
     "output_type": "execute_result"
    }
   ],
   "source": [
    "a['Unnamed: 3'].sum()"
   ]
  },
  {
   "cell_type": "code",
   "execution_count": 35,
   "metadata": {},
   "outputs": [
    {
     "data": {
      "text/plain": [
       "504"
      ]
     },
     "execution_count": 35,
     "metadata": {},
     "output_type": "execute_result"
    }
   ],
   "source": [
    "a['Unnamed: 4'].sum()"
   ]
  },
  {
   "cell_type": "markdown",
   "metadata": {},
   "source": [
    "[planilha](pesquisa.xlsx) "
   ]
  }
 ],
 "metadata": {
  "kernelspec": {
   "display_name": "base",
   "language": "python",
   "name": "python3"
  },
  "language_info": {
   "codemirror_mode": {
    "name": "ipython",
    "version": 3
   },
   "file_extension": ".py",
   "mimetype": "text/x-python",
   "name": "python",
   "nbconvert_exporter": "python",
   "pygments_lexer": "ipython3",
   "version": "3.10.9"
  },
  "orig_nbformat": 4
 },
 "nbformat": 4,
 "nbformat_minor": 2
}
